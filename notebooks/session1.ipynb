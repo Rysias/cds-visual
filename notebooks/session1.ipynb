{
 "cells": [
  {
   "cell_type": "markdown",
   "metadata": {},
   "source": [
    "## Introducing ```numpy``` and arrays"
   ]
  },
  {
   "cell_type": "markdown",
   "metadata": {},
   "source": [
    "To begin processing image data, we need to understand what's going on behind the scenes.\n",
    "\n",
    "We can do that using a library called ```numpy```, which stands for __Numerical Python__. \n",
    "\n",
    "In general, you should use this library when you want to do fancy mathemtical operations with numbers, especially if you have arrays or matrices."
   ]
  },
  {
   "cell_type": "code",
   "execution_count": 29,
   "metadata": {
    "execution": {
     "iopub.execute_input": "2022-02-16T11:49:23.318799Z",
     "iopub.status.busy": "2022-02-16T11:49:23.318223Z",
     "iopub.status.idle": "2022-02-16T11:49:23.326386Z",
     "shell.execute_reply": "2022-02-16T11:49:23.324809Z",
     "shell.execute_reply.started": "2022-02-16T11:49:23.318744Z"
    },
    "tags": []
   },
   "outputs": [],
   "source": [
    "# tools for interacting with the operating system\n",
    "import os\n",
    "from pathlib import Path\n",
    "\n",
    "# scientific python tool for \n",
    "import numpy as np # creating an abbreviation to save keystrokes"
   ]
  },
  {
   "cell_type": "code",
   "execution_count": 44,
   "metadata": {
    "execution": {
     "iopub.execute_input": "2022-02-16T12:19:26.989053Z",
     "iopub.status.busy": "2022-02-16T12:19:26.988464Z",
     "iopub.status.idle": "2022-02-16T12:19:26.996997Z",
     "shell.execute_reply": "2022-02-16T12:19:26.995679Z",
     "shell.execute_reply.started": "2022-02-16T12:19:26.988997Z"
    },
    "tags": []
   },
   "outputs": [],
   "source": [
    "SAMPLE_DIR = Path(\"../../../CDS-VIS\")\n",
    "assert SAMPLE_DIR.exists()\n",
    "file_path = SAMPLE_DIR / \"test_samples\" / \"sample-data-01.csv\""
   ]
  },
  {
   "cell_type": "code",
   "execution_count": 31,
   "metadata": {
    "execution": {
     "iopub.execute_input": "2022-02-16T11:49:26.844784Z",
     "iopub.status.busy": "2022-02-16T11:49:26.844273Z",
     "iopub.status.idle": "2022-02-16T11:49:26.856134Z",
     "shell.execute_reply": "2022-02-16T11:49:26.854665Z",
     "shell.execute_reply.started": "2022-02-16T11:49:26.844735Z"
    },
    "tags": []
   },
   "outputs": [],
   "source": [
    "data = np.loadtxt(file_path, delimiter=\",\")"
   ]
  },
  {
   "cell_type": "markdown",
   "metadata": {},
   "source": [
    "The expression ```numpy.loadtxt(...)``` is a function call that asks Python to run the function ```loadtxt``` which belongs to the ```numpy``` library. This dotted notation is used everywhere in Python: the thing that appears before the dot contains the thing that appears after.\n",
    "\n",
    "\n",
    "```numpy.loadtxt``` has two parameters: the name of the file we want to read and the delimiter that separates values on a line. These both need to be character strings (or strings for short), so we put them in quotes."
   ]
  },
  {
   "cell_type": "markdown",
   "metadata": {},
   "source": [
    "__Assign to variable__"
   ]
  },
  {
   "cell_type": "code",
   "execution_count": 32,
   "metadata": {
    "execution": {
     "iopub.execute_input": "2022-02-16T11:49:31.638116Z",
     "iopub.status.busy": "2022-02-16T11:49:31.637557Z",
     "iopub.status.idle": "2022-02-16T11:49:31.648877Z",
     "shell.execute_reply": "2022-02-16T11:49:31.647640Z",
     "shell.execute_reply.started": "2022-02-16T11:49:31.638062Z"
    },
    "tags": []
   },
   "outputs": [],
   "source": [
    "data = np.loadtxt(file_path, delimiter=\",\")"
   ]
  },
  {
   "cell_type": "code",
   "execution_count": 33,
   "metadata": {
    "execution": {
     "iopub.execute_input": "2022-02-16T11:49:32.862817Z",
     "iopub.status.busy": "2022-02-16T11:49:32.862300Z",
     "iopub.status.idle": "2022-02-16T11:49:32.871981Z",
     "shell.execute_reply": "2022-02-16T11:49:32.870643Z",
     "shell.execute_reply.started": "2022-02-16T11:49:32.862770Z"
    },
    "tags": []
   },
   "outputs": [
    {
     "name": "stdout",
     "output_type": "stream",
     "text": [
      "[[0. 0. 1. ... 3. 0. 0.]\n",
      " [0. 1. 2. ... 1. 0. 1.]\n",
      " [0. 1. 1. ... 2. 1. 1.]\n",
      " ...\n",
      " [0. 1. 1. ... 1. 1. 1.]\n",
      " [0. 0. 0. ... 0. 2. 0.]\n",
      " [0. 0. 1. ... 1. 1. 0.]]\n"
     ]
    }
   ],
   "source": [
    "print(data)"
   ]
  },
  {
   "cell_type": "code",
   "execution_count": 22,
   "metadata": {
    "execution": {
     "iopub.execute_input": "2022-02-16T10:51:31.765982Z",
     "iopub.status.busy": "2022-02-16T10:51:31.765419Z",
     "iopub.status.idle": "2022-02-16T10:51:31.774233Z",
     "shell.execute_reply": "2022-02-16T10:51:31.772903Z",
     "shell.execute_reply.started": "2022-02-16T10:51:31.765929Z"
    },
    "tags": []
   },
   "outputs": [
    {
     "name": "stdout",
     "output_type": "stream",
     "text": [
      "<class 'numpy.ndarray'>\n"
     ]
    }
   ],
   "source": [
    "print(type(data))"
   ]
  },
  {
   "cell_type": "markdown",
   "metadata": {},
   "source": [
    "__numpy.ndarray__ tells us that we are working with an N-dimensional array\n",
    "\n",
    "In this case, it's 2-dimensional"
   ]
  },
  {
   "cell_type": "code",
   "execution_count": 23,
   "metadata": {
    "execution": {
     "iopub.execute_input": "2022-02-16T11:05:58.709874Z",
     "iopub.status.busy": "2022-02-16T11:05:58.709313Z",
     "iopub.status.idle": "2022-02-16T11:05:58.719293Z",
     "shell.execute_reply": "2022-02-16T11:05:58.717832Z",
     "shell.execute_reply.started": "2022-02-16T11:05:58.709823Z"
    },
    "tags": []
   },
   "outputs": [
    {
     "data": {
      "text/plain": [
       "(60, 40)"
      ]
     },
     "execution_count": 23,
     "metadata": {},
     "output_type": "execute_result"
    }
   ],
   "source": [
    "data.shape"
   ]
  },
  {
   "cell_type": "code",
   "execution_count": 36,
   "metadata": {
    "execution": {
     "iopub.execute_input": "2022-02-16T11:49:47.759640Z",
     "iopub.status.busy": "2022-02-16T11:49:47.758870Z",
     "iopub.status.idle": "2022-02-16T11:49:47.769812Z",
     "shell.execute_reply": "2022-02-16T11:49:47.768525Z",
     "shell.execute_reply.started": "2022-02-16T11:49:47.759584Z"
    },
    "tags": []
   },
   "outputs": [
    {
     "data": {
      "text/plain": [
       "(40,)"
      ]
     },
     "execution_count": 36,
     "metadata": {},
     "output_type": "execute_result"
    }
   ],
   "source": []
  },
  {
   "cell_type": "code",
   "execution_count": null,
   "metadata": {},
   "outputs": [],
   "source": []
  },
  {
   "cell_type": "markdown",
   "metadata": {},
   "source": [
    "__Index__"
   ]
  },
  {
   "cell_type": "markdown",
   "metadata": {},
   "source": [
    "Indexing is similar to lists and strings, but we need to inlcude both row and column"
   ]
  },
  {
   "cell_type": "code",
   "execution_count": null,
   "metadata": {},
   "outputs": [],
   "source": []
  },
  {
   "cell_type": "code",
   "execution_count": null,
   "metadata": {},
   "outputs": [],
   "source": []
  },
  {
   "cell_type": "markdown",
   "metadata": {},
   "source": [
    "__Question:__ What is the middle value of the array?"
   ]
  },
  {
   "cell_type": "code",
   "execution_count": 24,
   "metadata": {
    "execution": {
     "iopub.execute_input": "2022-02-16T11:17:17.411430Z",
     "iopub.status.busy": "2022-02-16T11:17:17.410887Z",
     "iopub.status.idle": "2022-02-16T11:17:17.420402Z",
     "shell.execute_reply": "2022-02-16T11:17:17.419249Z",
     "shell.execute_reply.started": "2022-02-16T11:17:17.411377Z"
    },
    "tags": []
   },
   "outputs": [
    {
     "name": "stdout",
     "output_type": "stream",
     "text": [
      "the middle value is 13.0\n"
     ]
    }
   ],
   "source": [
    "middle_val = x[int(x.shape[0]/2), int(x.shape[1]/2)]\n",
    "print(f\"the middle value is {middle_val}\")"
   ]
  },
  {
   "cell_type": "code",
   "execution_count": 27,
   "metadata": {
    "execution": {
     "iopub.execute_input": "2022-02-16T11:25:03.590232Z",
     "iopub.status.busy": "2022-02-16T11:25:03.589674Z",
     "iopub.status.idle": "2022-02-16T11:25:03.600386Z",
     "shell.execute_reply": "2022-02-16T11:25:03.599079Z",
     "shell.execute_reply.started": "2022-02-16T11:25:03.590176Z"
    },
    "tags": []
   },
   "outputs": [
    {
     "data": {
      "text/plain": [
       "2"
      ]
     },
     "execution_count": 27,
     "metadata": {},
     "output_type": "execute_result"
    }
   ],
   "source": [
    "np.ceil(1.5).astype(int)\n",
    "\n"
   ]
  },
  {
   "cell_type": "markdown",
   "metadata": {},
   "source": [
    "<img src=\"../../CDS-VIS/test_samples/python-zero-index.svg\">"
   ]
  },
  {
   "cell_type": "markdown",
   "metadata": {},
   "source": [
    "__Slice__"
   ]
  },
  {
   "cell_type": "markdown",
   "metadata": {},
   "source": [
    "An index like [30, 20] selects a single element of an array, but we can select whole sections as well. \n",
    "\n",
    "For example, we can select the first ten columns of values for the first four rows like this:"
   ]
  },
  {
   "cell_type": "code",
   "execution_count": null,
   "metadata": {
    "tags": []
   },
   "outputs": [],
   "source": []
  },
  {
   "cell_type": "markdown",
   "metadata": {},
   "source": [
    "First ten columns, rows five-ten"
   ]
  },
  {
   "cell_type": "code",
   "execution_count": null,
   "metadata": {},
   "outputs": [],
   "source": []
  },
  {
   "cell_type": "markdown",
   "metadata": {},
   "source": [
    "__Select only one row__"
   ]
  },
  {
   "cell_type": "code",
   "execution_count": null,
   "metadata": {},
   "outputs": [],
   "source": []
  },
  {
   "cell_type": "markdown",
   "metadata": {},
   "source": [
    "__Select only one column__"
   ]
  },
  {
   "cell_type": "code",
   "execution_count": null,
   "metadata": {},
   "outputs": [],
   "source": []
  },
  {
   "cell_type": "markdown",
   "metadata": {},
   "source": [
    "__Numpy functions__"
   ]
  },
  {
   "cell_type": "code",
   "execution_count": null,
   "metadata": {},
   "outputs": [],
   "source": []
  },
  {
   "cell_type": "code",
   "execution_count": null,
   "metadata": {},
   "outputs": [],
   "source": []
  },
  {
   "cell_type": "code",
   "execution_count": null,
   "metadata": {},
   "outputs": [],
   "source": []
  },
  {
   "cell_type": "markdown",
   "metadata": {},
   "source": [
    "How to access help..."
   ]
  },
  {
   "cell_type": "code",
   "execution_count": null,
   "metadata": {},
   "outputs": [],
   "source": []
  },
  {
   "cell_type": "markdown",
   "metadata": {},
   "source": [
    "__Operation across rows__"
   ]
  },
  {
   "cell_type": "code",
   "execution_count": null,
   "metadata": {},
   "outputs": [],
   "source": []
  },
  {
   "cell_type": "code",
   "execution_count": null,
   "metadata": {},
   "outputs": [],
   "source": []
  },
  {
   "cell_type": "markdown",
   "metadata": {},
   "source": [
    "\"Average score per day\""
   ]
  },
  {
   "cell_type": "markdown",
   "metadata": {},
   "source": [
    "__Operation along columns__"
   ]
  },
  {
   "cell_type": "markdown",
   "metadata": {},
   "source": [
    "\"Average score per patient\""
   ]
  },
  {
   "cell_type": "markdown",
   "metadata": {},
   "source": [
    "<img src=\"../../CDS-VIS/test_samples/numpy-axes.png\">"
   ]
  },
  {
   "cell_type": "code",
   "execution_count": null,
   "metadata": {},
   "outputs": [],
   "source": []
  },
  {
   "cell_type": "code",
   "execution_count": null,
   "metadata": {},
   "outputs": [],
   "source": []
  },
  {
   "cell_type": "markdown",
   "metadata": {},
   "source": [
    "This is a good overview to show how things work wiht ```numpy```:\n",
    "\n",
    "https://www.sharpsightlabs.com/blog/numpy-axes-explained/"
   ]
  },
  {
   "cell_type": "markdown",
   "metadata": {},
   "source": [
    "## Basic image processing with OpenCV"
   ]
  },
  {
   "cell_type": "markdown",
   "metadata": {},
   "source": [
    "We start by loading all of the modules we'll need for this class"
   ]
  },
  {
   "cell_type": "code",
   "execution_count": 42,
   "metadata": {
    "execution": {
     "iopub.execute_input": "2022-02-16T12:11:40.380778Z",
     "iopub.status.busy": "2022-02-16T12:11:40.380211Z",
     "iopub.status.idle": "2022-02-16T12:11:40.388306Z",
     "shell.execute_reply": "2022-02-16T12:11:40.386897Z",
     "shell.execute_reply.started": "2022-02-16T12:11:40.380725Z"
    },
    "tags": []
   },
   "outputs": [],
   "source": [
    "# We need to incldue the home directory in our path, so we can read in our own module.\n",
    "import sys\n",
    "sys.path.append(os.path.join(\"..\", \"..\", \"..\", \"CDS-VIS\"))"
   ]
  },
  {
   "cell_type": "code",
   "execution_count": 43,
   "metadata": {
    "execution": {
     "iopub.execute_input": "2022-02-16T12:11:42.376505Z",
     "iopub.status.busy": "2022-02-16T12:11:42.375966Z",
     "iopub.status.idle": "2022-02-16T12:11:46.805841Z",
     "shell.execute_reply": "2022-02-16T12:11:46.804189Z",
     "shell.execute_reply.started": "2022-02-16T12:11:42.376455Z"
    },
    "tags": []
   },
   "outputs": [],
   "source": [
    "# python framework for working with images\n",
    "import cv2\n",
    "\n",
    "# some utility functions for plotting images\n",
    "from utils.imutils import jimshow"
   ]
  },
  {
   "cell_type": "code",
   "execution_count": 48,
   "metadata": {
    "execution": {
     "iopub.execute_input": "2022-02-16T12:20:57.469405Z",
     "iopub.status.busy": "2022-02-16T12:20:57.468845Z",
     "iopub.status.idle": "2022-02-16T12:20:57.597734Z",
     "shell.execute_reply": "2022-02-16T12:20:57.596129Z",
     "shell.execute_reply.started": "2022-02-16T12:20:57.469352Z"
    },
    "tags": []
   },
   "outputs": [],
   "source": [
    "dino_file = SAMPLE_DIR / \"img\" / \"trex.png\"\n",
    "assert dino_file.exists()\n",
    "dino = cv2.imread(str(dino_file))"
   ]
  },
  {
   "cell_type": "code",
   "execution_count": 49,
   "metadata": {
    "execution": {
     "iopub.execute_input": "2022-02-16T12:22:05.755224Z",
     "iopub.status.busy": "2022-02-16T12:22:05.754430Z",
     "iopub.status.idle": "2022-02-16T12:22:05.770987Z",
     "shell.execute_reply": "2022-02-16T12:22:05.769607Z",
     "shell.execute_reply.started": "2022-02-16T12:22:05.755166Z"
    },
    "tags": []
   },
   "outputs": [
    {
     "data": {
      "text/plain": [
       "True"
      ]
     },
     "execution_count": 49,
     "metadata": {},
     "output_type": "execute_result"
    }
   ],
   "source": [
    "cv2.imwrite(str(Path(\"../data/rawr.png\")), dino)"
   ]
  },
  {
   "cell_type": "markdown",
   "metadata": {},
   "source": [
    "__Read image__"
   ]
  },
  {
   "cell_type": "markdown",
   "metadata": {},
   "source": [
    "We can load an image using a handy function from OpenCV"
   ]
  },
  {
   "cell_type": "code",
   "execution_count": null,
   "metadata": {
    "tags": []
   },
   "outputs": [],
   "source": []
  },
  {
   "cell_type": "code",
   "execution_count": null,
   "metadata": {
    "tags": []
   },
   "outputs": [],
   "source": []
  },
  {
   "cell_type": "code",
   "execution_count": null,
   "metadata": {},
   "outputs": [],
   "source": []
  },
  {
   "cell_type": "markdown",
   "metadata": {},
   "source": [
    "__Save image__"
   ]
  },
  {
   "cell_type": "code",
   "execution_count": null,
   "metadata": {},
   "outputs": [],
   "source": []
  },
  {
   "cell_type": "code",
   "execution_count": null,
   "metadata": {},
   "outputs": [],
   "source": []
  },
  {
   "cell_type": "code",
   "execution_count": null,
   "metadata": {},
   "outputs": [],
   "source": []
  },
  {
   "cell_type": "markdown",
   "metadata": {},
   "source": [
    "__Inspect image__"
   ]
  },
  {
   "cell_type": "code",
   "execution_count": null,
   "metadata": {},
   "outputs": [],
   "source": []
  },
  {
   "cell_type": "code",
   "execution_count": null,
   "metadata": {},
   "outputs": [],
   "source": []
  },
  {
   "cell_type": "markdown",
   "metadata": {},
   "source": [
    "## What is an image?"
   ]
  },
  {
   "cell_type": "markdown",
   "metadata": {},
   "source": [
    "__Remember how ```numpy``` arrays work!__\n",
    "\n",
    "ROWSxCOLUMNS == HEIGHTxWIDTH"
   ]
  },
  {
   "cell_type": "code",
   "execution_count": null,
   "metadata": {},
   "outputs": [],
   "source": []
  },
  {
   "cell_type": "code",
   "execution_count": null,
   "metadata": {},
   "outputs": [],
   "source": []
  },
  {
   "cell_type": "markdown",
   "metadata": {},
   "source": [
    "In our image, there are 228*350 = 79,800 pixels"
   ]
  },
  {
   "cell_type": "markdown",
   "metadata": {},
   "source": [
    "__What about the last one?__"
   ]
  },
  {
   "cell_type": "code",
   "execution_count": null,
   "metadata": {},
   "outputs": [],
   "source": []
  },
  {
   "cell_type": "markdown",
   "metadata": {},
   "source": [
    "<img src=\"../../CDS-VIS/test_samples/3-channels.png\">"
   ]
  },
  {
   "cell_type": "markdown",
   "metadata": {},
   "source": [
    "__NB!__\n",
    "\n",
    "```OpenCV``` stores RGB tuples in REVERSE ORDER"
   ]
  },
  {
   "cell_type": "markdown",
   "metadata": {},
   "source": [
    "__What colour is a specific pixel?__"
   ]
  },
  {
   "cell_type": "code",
   "execution_count": null,
   "metadata": {},
   "outputs": [],
   "source": []
  },
  {
   "cell_type": "code",
   "execution_count": null,
   "metadata": {},
   "outputs": [],
   "source": []
  },
  {
   "cell_type": "markdown",
   "metadata": {},
   "source": [
    "__Modify colour__"
   ]
  },
  {
   "cell_type": "code",
   "execution_count": null,
   "metadata": {},
   "outputs": [],
   "source": []
  },
  {
   "cell_type": "code",
   "execution_count": null,
   "metadata": {},
   "outputs": [],
   "source": []
  },
  {
   "cell_type": "markdown",
   "metadata": {},
   "source": [
    "__Image slice__"
   ]
  },
  {
   "cell_type": "code",
   "execution_count": 57,
   "metadata": {
    "execution": {
     "iopub.execute_input": "2022-02-16T12:47:58.708467Z",
     "iopub.status.busy": "2022-02-16T12:47:58.707943Z",
     "iopub.status.idle": "2022-02-16T12:47:58.757209Z",
     "shell.execute_reply": "2022-02-16T12:47:58.756444Z",
     "shell.execute_reply.started": "2022-02-16T12:47:58.708418Z"
    },
    "tags": []
   },
   "outputs": [
    {
     "data": {
      "image/png": "[encoded data removed]",
      "text/plain": [
       "<Figure size 100x100 with 1 Axes>"
      ]
     },
     "metadata": {
      "needs_background": "light"
     },
     "output_type": "display_data"
    }
   ],
   "source": [
    "corner = dino[:100, :100] \n",
    "jimshow(corner, \"Corner\")"
   ]
  },
  {
   "cell_type": "code",
   "execution_count": null,
   "metadata": {},
   "outputs": [],
   "source": []
  },
  {
   "cell_type": "markdown",
   "metadata": {},
   "source": [
    "__Change corner colour__"
   ]
  },
  {
   "cell_type": "code",
   "execution_count": 60,
   "metadata": {
    "execution": {
     "iopub.execute_input": "2022-02-16T12:49:41.374624Z",
     "iopub.status.busy": "2022-02-16T12:49:41.374069Z",
     "iopub.status.idle": "2022-02-16T12:49:41.446583Z",
     "shell.execute_reply": "2022-02-16T12:49:41.445933Z",
     "shell.execute_reply.started": "2022-02-16T12:49:41.374571Z"
    },
    "tags": []
   },
   "outputs": [
    {
     "data": {
      "image/png": "[encoded data removed]",
      "text/plain": [
       "<Figure size 350x228 with 1 Axes>"
      ]
     },
     "metadata": {
      "needs_background": "light"
     },
     "output_type": "display_data"
    }
   ],
   "source": [
    "dino[:100, :100] = [0, 0, 255]\n",
    "jimshow(dino, \"WUT\")"
   ]
  },
  {
   "cell_type": "code",
   "execution_count": null,
   "metadata": {},
   "outputs": [],
   "source": []
  }
 ],
 "metadata": {
  "kernelspec": {
   "display_name": "Python 3 ",
   "language": "python",
   "name": "python3"
  },
  "language_info": {
   "codemirror_mode": {
    "name": "ipython",
    "version": 3
   },
   "file_extension": ".py",
   "mimetype": "text/x-python",
   "name": "python",
   "nbconvert_exporter": "python",
   "pygments_lexer": "ipython3",
   "version": "3.9.6"
  }
 },
 "nbformat": 4,
 "nbformat_minor": 4
}
